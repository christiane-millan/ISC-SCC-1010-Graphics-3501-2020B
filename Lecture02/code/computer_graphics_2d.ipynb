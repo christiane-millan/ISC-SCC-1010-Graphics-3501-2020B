{
 "cells": [
  {
   "cell_type": "markdown",
   "metadata": {},
   "source": [
    "# 2. Computer Graphics 2D\n",
    "\n",
    "## 2.1.  Geometric transformation \n",
    "\n",
    "Geometric transformations can be used to position objects, i.e. to shift them to another position or to rotate them, to change the shape of objects.\n",
    "\n",
    "The most important geometric transformations are:\n",
    "\n",
    "- scaling, \n",
    "- rotation, \n",
    "- shearing, \n",
    "- and translation.\n",
    "\n",
    "### 2.1.1. Scaling\n",
    "\n",
    "Scaling leads to stretching or shrinking of objects in the direction of the $x-$ and the $y-axis$. A scaling $𝑆(𝑠_𝑥, 𝑠_𝑦)$ maps the point $(𝑥,𝑦)$ to the point $(𝑥’, 𝑦’)$ given by\n",
    "\n",
    "$\\begin{pmatrix}\n",
    "x' \\\\\n",
    "y'\n",
    "\\end{pmatrix} = \n",
    "\\begin{pmatrix}\n",
    "s_x \\cdot x \\\\\n",
    "s_y \\cdot y\n",
    "\\end{pmatrix} =\n",
    "\\begin{pmatrix}\n",
    "s_x & 0 \\\\\n",
    "0 & s_y\n",
    "\\end{pmatrix} \\cdot\n",
    "\\begin{pmatrix}\n",
    "x \\\\\n",
    "y\n",
    "\\end{pmatrix}\n",
    "$\n",
    "\n",
    "Example\n",
    "$s_x = 2$ and $s_y = 0.5$"
   ]
  },
  {
   "cell_type": "code",
   "execution_count": 1,
   "metadata": {},
   "outputs": [],
   "source": [
    "import numpy as np\n",
    "import cv2\n",
    "import matplotlib.pyplot as plt "
   ]
  },
  {
   "cell_type": "code",
   "execution_count": 2,
   "metadata": {},
   "outputs": [
    {
     "name": "stdout",
     "output_type": "stream",
     "text": [
      "(255, 0, 255)\n"
     ]
    }
   ],
   "source": [
    "colors = {'blue': (255, 0, 0), 'green': (0, 255, 0), 'red': (0, 0, 255), 'yellow': (0, 255, 255), 'magenta': (255, 0, 255), 'cyan': (255, 255, 0), 'white': (255, 255, 255), 'black': (0, 0, 0), 'gray': (125, 125, 125), 'rand': np.random.randint(0, high=256, size=(3,)).tolist(), 'dark_gray': (50, 50, 50), 'light_gray': (220, 220, 220)}\n",
    "print(colors['magenta'])"
   ]
  },
  {
   "cell_type": "code",
   "execution_count": 3,
   "metadata": {},
   "outputs": [],
   "source": [
    "image = np.zeros((400, 400, 3), dtype=\"uint8\")\n",
    "image[:] = colors['light_gray']"
   ]
  },
  {
   "cell_type": "code",
   "execution_count": 4,
   "metadata": {},
   "outputs": [],
   "source": [
    "def show_with_matplotlib(img, title):\n",
    "    img_RGB = img[:,:,::-1]\n",
    "    \n",
    "    plt.imshow(img_RGB)\n",
    "    plt.title(title)\n",
    "    plt.show()"
   ]
  },
  {
   "cell_type": "code",
   "execution_count": 7,
   "metadata": {},
   "outputs": [],
   "source": [
    "def draw_float_rectangle(img, point1, point2, color, thickness=1, lineType=8, shift=4):\n",
    "    factor = 2 ** shift\n",
    "\n",
    "    point1 = int(round(point1[0] * factor)), int(round(point1[1] * factor))\n",
    "    point2 = int(round(point2[0] * factor)), int(round(point2[1] * factor))\n",
    "    \n",
    "    cv2.rectangle(img, point1, point2, color, thickness, lineType, shift)"
   ]
  },
  {
   "cell_type": "code",
   "execution_count": 8,
   "metadata": {},
   "outputs": [
    {
     "data": {
      "image/png": "[encoded data removed]",
      "text/plain": [
       "<Figure size 432x288 with 1 Axes>"
      ]
     },
     "metadata": {
      "needs_background": "light"
     },
     "output_type": "display_data"
    }
   ],
   "source": [
    "#cv2.rectangle(image, (80, 120), (180, 180), colors['green'], 3)\n",
    "draw_float_rectangle(image, (80, 120), (180, 180), colors['green'], 3, 8, 1)\n",
    "show_with_matplotlib(image, 'Rectangles')"
   ]
  },
  {
   "cell_type": "code",
   "execution_count": 9,
   "metadata": {},
   "outputs": [
    {
     "data": {
      "image/png": "[encoded data removed]",
      "text/plain": [
       "<Figure size 432x288 with 1 Axes>"
      ]
     },
     "metadata": {
      "needs_background": "light"
     },
     "output_type": "display_data"
    }
   ],
   "source": [
    "#cv2.rectangle(image, (80*2, 120*0.5), (180*2, 180*0.5), colors['green'], 3)\n",
    "\n",
    "draw_float_rectangle(image, (80 * 2, 120 * 0.5), (180 * 2, 180 * 0.5), colors['red'], 3, 8, 1)\n",
    "show_with_matplotlib(image, 'Rectangles')"
   ]
  },
  {
   "cell_type": "markdown",
   "metadata": {},
   "source": [
    "A scaling is always carried out with respect to the origin of the coordinate system. \n",
    "\n",
    "Applying a scaling to an object that is not centred around the origin of the coordinate system will lead to a translation of the (centre of the) object in addition to the scaling."
   ]
  },
  {
   "cell_type": "markdown",
   "metadata": {},
   "source": [
    "### 2.2.2. Rotations\n",
    "\n",
    "The rotation $R(\\theta)$ by the angle $\\theta$  maps the point $(x, y)$  to the point $(x', y')$ given by.\n",
    "\n",
    "$\\begin{pmatrix}\n",
    "x' \\\\\n",
    "y'\n",
    "\\end{pmatrix} = \n",
    "\\begin{pmatrix}\n",
    "x \\cdot cos(\\theta) - y \\cdot sin(\\theta) \\\\\n",
    "x \\cdot sin(\\theta) + y \\cdot cos(\\theta)\n",
    "\\end{pmatrix} =\n",
    "\\begin{pmatrix}\n",
    "cos(\\theta) & -sin(\\theta) \\\\\n",
    "sin(\\theta) &  cos(\\theta)\n",
    "\\end{pmatrix} \\cdot\n",
    "\\begin{pmatrix}\n",
    "x \\\\\n",
    "y\n",
    "\\end{pmatrix}\n",
    "$\n",
    "\n",
    "- Anticlockwise in case of a positive angle\n",
    "- Clockwise in case of a negative angle\n",
    "\n",
    "Example\n",
    "$\\theta = 45^{\\circ}$"
   ]
  },
  {
   "cell_type": "code",
   "execution_count": 10,
   "metadata": {},
   "outputs": [],
   "source": [
    "def draw_float_polylines(img, pts, color, thickness=1, lineType=8, shift=4):\n",
    "    factor = 2 ** shift\n",
    "    pts = pts * factor\n",
    "    pts = np.round(pts)\n",
    "    pts = pts.astype(int)\n",
    "    cv2.polylines(img, [pts], True, color, thickness, lineType, shift)\n"
   ]
  },
  {
   "cell_type": "code",
   "execution_count": 11,
   "metadata": {},
   "outputs": [
    {
     "data": {
      "image/png": "[encoded data removed]",
      "text/plain": [
       "<Figure size 432x288 with 1 Axes>"
      ]
     },
     "metadata": {
      "needs_background": "light"
     },
     "output_type": "display_data"
    }
   ],
   "source": [
    "image = np.zeros((400, 400, 3), dtype=\"uint8\")\n",
    "image[:] = colors['light_gray']\n",
    "\n",
    "\n",
    "#draw_float_rectangle(image, (150, 150), (350, 200), colors['green'], 3, 8, 1)\n",
    "#show_with_matplotlib(image, 'Rectangles')\n",
    "\n",
    "pts = np.array([[250, 250], [250, 270], [300, 270], [300, 250]], np.int32)\n",
    "pts = pts.reshape((-1, 1, 2))\n",
    "\n",
    "draw_float_polylines(image, pts, colors['green'], thickness=4, lineType=8, shift=1)\n",
    "show_with_matplotlib(image, 'Rectangles')"
   ]
  },
  {
   "cell_type": "code",
   "execution_count": 16,
   "metadata": {},
   "outputs": [
    {
     "data": {
      "image/png": "[encoded data removed]",
      "text/plain": [
       "<Figure size 432x288 with 1 Axes>"
      ]
     },
     "metadata": {
      "needs_background": "light"
     },
     "output_type": "display_data"
    }
   ],
   "source": [
    "import math\n",
    "import numpy as np\n",
    "\n",
    "theta = -15\n",
    "theta = math.radians(theta)\n",
    "rotation = np.array([math.cos(theta), math.sin(theta), -1 * math.sin(theta), math.cos(theta)]).reshape(2,2)\n",
    "\n",
    "pts_ = pts @ rotation\n",
    "\n",
    "draw_float_polylines(image, pts_, colors['red'], thickness=4, lineType=8, shift=1)\n",
    "show_with_matplotlib(image, 'Rectangles')"
   ]
  },
  {
   "cell_type": "markdown",
   "metadata": {},
   "source": [
    "### 2.2.3. Shear transformation\n",
    "\n",
    "Applying a shear transformation $Sh(s_x,s_y)$ to a point $(x,y)$ yields the point $(x',y')$ with the new coordinates\n",
    "\n",
    "$\\begin{pmatrix}\n",
    "x' \\\\\n",
    "y'\n",
    "\\end{pmatrix} = \n",
    "\\begin{pmatrix}\n",
    "x+s_x \\cdot y \\\\\n",
    "y+s_y \\cdot x\n",
    "\\end{pmatrix} =\n",
    "\\begin{pmatrix}\n",
    "1 & s_x\\\\\n",
    "s_y & 1\n",
    "\\end{pmatrix} \\cdot\n",
    "\\begin{pmatrix}\n",
    "x \\\\\n",
    "y\n",
    "\\end{pmatrix}\n",
    "$"
   ]
  },
  {
   "cell_type": "code",
   "execution_count": 17,
   "metadata": {},
   "outputs": [],
   "source": [
    "image = np.zeros((400, 400, 3), dtype=\"uint8\")\n",
    "image[:] = colors['light_gray']"
   ]
  },
  {
   "cell_type": "code",
   "execution_count": 18,
   "metadata": {},
   "outputs": [
    {
     "data": {
      "image/png": "[encoded data removed]",
      "text/plain": [
       "<Figure size 432x288 with 1 Axes>"
      ]
     },
     "metadata": {
      "needs_background": "light"
     },
     "output_type": "display_data"
    }
   ],
   "source": [
    "#draw_float_rectangle(image, (80, 120), (180, 180), colors['green'], 3, 8, 1)\n",
    "#show_with_matplotlib(image, 'Rectangles')\n",
    "\n",
    "pts = np.array([[80, 120], [80, 180], [180, 180], [180, 120]], np.int32)\n",
    "pts = pts.reshape((-1, 1, 2))\n",
    "\n",
    "draw_float_polylines(image, pts, colors['blue'], thickness=4, lineType=8, shift=1)\n",
    "show_with_matplotlib(image, 'Rectangles')"
   ]
  },
  {
   "cell_type": "markdown",
   "metadata": {},
   "source": [
    "example of sharing $s_x = 1$ and $s_y = 0$"
   ]
  },
  {
   "cell_type": "code",
   "execution_count": 22,
   "metadata": {},
   "outputs": [
    {
     "data": {
      "image/png": "[encoded data removed]",
      "text/plain": [
       "<Figure size 432x288 with 1 Axes>"
      ]
     },
     "metadata": {
      "needs_background": "light"
     },
     "output_type": "display_data"
    }
   ],
   "source": [
    "sx = 0\n",
    "sy = 1\n",
    "\n",
    "sharing = np.array([1, sy, sx, 1]).reshape(2,2)\n",
    "pts_ = pts @ sharing\n",
    "\n",
    "draw_float_polylines(image, pts_, colors['red'], thickness=4, lineType=8, shift=1)\n",
    "show_with_matplotlib(image, 'Rectangles')"
   ]
  },
  {
   "cell_type": "markdown",
   "metadata": {},
   "source": [
    "### 2.2.3. Translation\n",
    "\n",
    "A translation $T(d_x , d_y )$ causes a shift by the vector $d = (dx , dy )$ . This means the translation maps the point $(x, y)^\\top$ to the point\n",
    "\n",
    "$\\begin{pmatrix}\n",
    "x' \\\\\n",
    "y'\n",
    "\\end{pmatrix} = \n",
    "\\begin{pmatrix}\n",
    "x+d_x \\\\\n",
    "y+d_y\n",
    "\\end{pmatrix} =\n",
    "\\begin{pmatrix}\n",
    "x \\\\\n",
    "y\n",
    "\\end{pmatrix} +\n",
    "\\begin{pmatrix}\n",
    "d_x \\\\\n",
    "d_y\n",
    "\\end{pmatrix}\n",
    "$\n",
    "\n",
    "Example = $d = (140, 80)^\\top$"
   ]
  },
  {
   "cell_type": "code",
   "execution_count": 23,
   "metadata": {},
   "outputs": [
    {
     "data": {
      "image/png": "[encoded data removed]",
      "text/plain": [
       "<Figure size 432x288 with 1 Axes>"
      ]
     },
     "metadata": {
      "needs_background": "light"
     },
     "output_type": "display_data"
    }
   ],
   "source": [
    "image = np.zeros((400, 400, 3), dtype=\"uint8\")\n",
    "image[:] = colors['light_gray']\n",
    "\n",
    "pts = np.array([[80, 120], [80, 180], [180, 180], [180, 120]], np.int32)\n",
    "pts = pts.reshape((-1, 1, 2))\n",
    "\n",
    "draw_float_polylines(image, pts, colors['blue'], thickness=4, lineType=8, shift=1)\n",
    "show_with_matplotlib(image, 'Rectangles')"
   ]
  },
  {
   "cell_type": "code",
   "execution_count": 24,
   "metadata": {},
   "outputs": [
    {
     "data": {
      "image/png": "[encoded data removed]",
      "text/plain": [
       "<Figure size 432x288 with 1 Axes>"
      ]
     },
     "metadata": {
      "needs_background": "light"
     },
     "output_type": "display_data"
    }
   ],
   "source": [
    "dx = 140\n",
    "dy = 80\n",
    "translation = np.array([dx, dy]).reshape(1,2)\n",
    "\n",
    "pts_ = pts + translation\n",
    "\n",
    "draw_float_polylines(image, pts_, colors['red'], thickness=4, lineType=8, shift=1)\n",
    "show_with_matplotlib(image, 'Rectangles')"
   ]
  },
  {
   "cell_type": "markdown",
   "metadata": {},
   "source": [
    "## 2.2. Homogeneous Coordinates\n",
    "\n",
    "Homogeneous coordinates use an additional dimension for the representation of points. The point $(x,y,z)$ in homogeneous coordinates is identified with the point $( x/z , y/z )$ in Cartesian coordinates. \n",
    "\n",
    " The z-component of a point in homogeneous coordinates must not be zero.\n",
    " \n",
    " When the point $(x_0,y_0)$ in Cartesian coordinates has to be transformed into homogeneous coordinates, the representation (x_0,y_0,1) can be used."
   ]
  },
  {
   "cell_type": "markdown",
   "metadata": {},
   "source": [
    "## 2.3. Drawing curves"
   ]
  },
  {
   "cell_type": "code",
   "execution_count": null,
   "metadata": {},
   "outputs": [],
   "source": []
  }
 ],
 "metadata": {
  "kernelspec": {
   "display_name": "Python 3",
   "language": "python",
   "name": "python3"
  },
  "language_info": {
   "codemirror_mode": {
    "name": "ipython",
    "version": 3
   },
   "file_extension": ".py",
   "mimetype": "text/x-python",
   "name": "python",
   "nbconvert_exporter": "python",
   "pygments_lexer": "ipython3",
   "version": "3.7.7"
  }
 },
 "nbformat": 4,
 "nbformat_minor": 4
}
